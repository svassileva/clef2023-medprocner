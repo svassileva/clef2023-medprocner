{
 "cells": [
  {
   "cell_type": "code",
   "execution_count": 1,
   "id": "03d6e436",
   "metadata": {},
   "outputs": [],
   "source": [
    "import pandas as pd"
   ]
  },
  {
   "cell_type": "code",
   "execution_count": 40,
   "id": "3750d089",
   "metadata": {},
   "outputs": [
    {
     "data": {
      "text/html": [
       "<div>\n",
       "<style scoped>\n",
       "    .dataframe tbody tr th:only-of-type {\n",
       "        vertical-align: middle;\n",
       "    }\n",
       "\n",
       "    .dataframe tbody tr th {\n",
       "        vertical-align: top;\n",
       "    }\n",
       "\n",
       "    .dataframe thead th {\n",
       "        text-align: right;\n",
       "    }\n",
       "</style>\n",
       "<table border=\"1\" class=\"dataframe\">\n",
       "  <thead>\n",
       "    <tr style=\"text-align: right;\">\n",
       "      <th></th>\n",
       "      <th>0</th>\n",
       "      <th>1</th>\n",
       "    </tr>\n",
       "  </thead>\n",
       "  <tbody>\n",
       "    <tr>\n",
       "      <th>0</th>\n",
       "      <td>241676002</td>\n",
       "      <td>espectrocopia por resonancia magnética de sodi...</td>\n",
       "    </tr>\n",
       "    <tr>\n",
       "      <th>1</th>\n",
       "      <td>426840007</td>\n",
       "      <td>Se monitorizó de manera seriada el peso del pr...</td>\n",
       "    </tr>\n",
       "    <tr>\n",
       "      <th>2</th>\n",
       "      <td>50647002</td>\n",
       "      <td>injerto incrustado deslizable de la tibia</td>\n",
       "    </tr>\n",
       "    <tr>\n",
       "      <th>3</th>\n",
       "      <td>313989009</td>\n",
       "      <td>índice sérico colesterol total/colesterol HDL</td>\n",
       "    </tr>\n",
       "    <tr>\n",
       "      <th>4</th>\n",
       "      <td>115406008</td>\n",
       "      <td>detección del antígeno linfocitario CD4+HLA - DR+</td>\n",
       "    </tr>\n",
       "  </tbody>\n",
       "</table>\n",
       "</div>"
      ],
      "text/plain": [
       "           0                                                  1\n",
       "0  241676002  espectrocopia por resonancia magnética de sodi...\n",
       "1  426840007  Se monitorizó de manera seriada el peso del pr...\n",
       "2   50647002          injerto incrustado deslizable de la tibia\n",
       "3  313989009      índice sérico colesterol total/colesterol HDL\n",
       "4  115406008  detección del antígeno linfocitario CD4+HLA - DR+"
      ]
     },
     "execution_count": 40,
     "metadata": {},
     "output_type": "execute_result"
    }
   ],
   "source": [
    "df_test = pd.read_csv('tiny_example_data/tiny_example_test_queries.tsv', sep='\\t', header=None)\n",
    "df_test.head()"
   ]
  },
  {
   "cell_type": "code",
   "execution_count": 41,
   "id": "e0692898",
   "metadata": {},
   "outputs": [
    {
     "data": {
      "text/plain": [
       "(3046, 2)"
      ]
     },
     "execution_count": 41,
     "metadata": {},
     "output_type": "execute_result"
    }
   ],
   "source": [
    "df_test.shape"
   ]
  },
  {
   "cell_type": "code",
   "execution_count": 42,
   "id": "086ea4cf",
   "metadata": {},
   "outputs": [
    {
     "data": {
      "text/plain": [
       "(3015, 2)"
      ]
     },
     "execution_count": 42,
     "metadata": {},
     "output_type": "execute_result"
    }
   ],
   "source": [
    "df_test = df_test.drop_duplicates(keep=False)\n",
    "df_test.shape"
   ]
  },
  {
   "cell_type": "code",
   "execution_count": 43,
   "id": "b1b2f7dc",
   "metadata": {},
   "outputs": [],
   "source": [
    "df_test.to_csv('tiny_example_data/tiny_example_test_queries.tsv', sep='\\t', header=None, index=False)"
   ]
  },
  {
   "cell_type": "code",
   "execution_count": null,
   "id": "b0336f8f",
   "metadata": {},
   "outputs": [],
   "source": []
  },
  {
   "cell_type": "code",
   "execution_count": 44,
   "id": "f8c7d06f",
   "metadata": {},
   "outputs": [
    {
     "data": {
      "text/html": [
       "<div>\n",
       "<style scoped>\n",
       "    .dataframe tbody tr th:only-of-type {\n",
       "        vertical-align: middle;\n",
       "    }\n",
       "\n",
       "    .dataframe tbody tr th {\n",
       "        vertical-align: top;\n",
       "    }\n",
       "\n",
       "    .dataframe thead th {\n",
       "        text-align: right;\n",
       "    }\n",
       "</style>\n",
       "<table border=\"1\" class=\"dataframe\">\n",
       "  <thead>\n",
       "    <tr style=\"text-align: right;\">\n",
       "      <th></th>\n",
       "      <th>0</th>\n",
       "      <th>1</th>\n",
       "    </tr>\n",
       "  </thead>\n",
       "  <tbody>\n",
       "    <tr>\n",
       "      <th>0</th>\n",
       "      <td>0</td>\n",
       "      <td>1</td>\n",
       "    </tr>\n",
       "    <tr>\n",
       "      <th>1</th>\n",
       "      <td>386219007</td>\n",
       "      <td>útero en el posparto: disminución del sangrado</td>\n",
       "    </tr>\n",
       "    <tr>\n",
       "      <th>2</th>\n",
       "      <td>83362003</td>\n",
       "      <td>última visita del médico al paciente internado...</td>\n",
       "    </tr>\n",
       "    <tr>\n",
       "      <th>3</th>\n",
       "      <td>16555451000119104</td>\n",
       "      <td>ínyección terapéutica de rodilla izquierda con...</td>\n",
       "    </tr>\n",
       "    <tr>\n",
       "      <th>4</th>\n",
       "      <td>16549151000119108</td>\n",
       "      <td>ínyección terapéutica de rodilla derecha con g...</td>\n",
       "    </tr>\n",
       "  </tbody>\n",
       "</table>\n",
       "</div>"
      ],
      "text/plain": [
       "                   0                                                  1\n",
       "0                  0                                                  1\n",
       "1          386219007     útero en el posparto: disminución del sangrado\n",
       "2           83362003  última visita del médico al paciente internado...\n",
       "3  16555451000119104  ínyección terapéutica de rodilla izquierda con...\n",
       "4  16549151000119108  ínyección terapéutica de rodilla derecha con g..."
      ]
     },
     "execution_count": 44,
     "metadata": {},
     "output_type": "execute_result"
    }
   ],
   "source": [
    "df_kb = pd.read_csv('tiny_example_data/tiny_example_test_kb.tsv', sep='\\t', header=None)\n",
    "df_kb.head()"
   ]
  },
  {
   "cell_type": "code",
   "execution_count": 45,
   "id": "180f0238",
   "metadata": {},
   "outputs": [
    {
     "data": {
      "text/plain": [
       "(91987, 2)"
      ]
     },
     "execution_count": 45,
     "metadata": {},
     "output_type": "execute_result"
    }
   ],
   "source": [
    "df_kb.shape"
   ]
  },
  {
   "cell_type": "code",
   "execution_count": 46,
   "id": "5f4703a0",
   "metadata": {},
   "outputs": [
    {
     "data": {
      "text/plain": [
       "(91987, 2)"
      ]
     },
     "execution_count": 46,
     "metadata": {},
     "output_type": "execute_result"
    }
   ],
   "source": [
    "df_kb = df_kb.drop_duplicates(keep=False)\n",
    "df_kb.shape"
   ]
  },
  {
   "cell_type": "code",
   "execution_count": 48,
   "id": "1d09558f",
   "metadata": {},
   "outputs": [],
   "source": [
    "texts = list(df_kb[1].values)"
   ]
  },
  {
   "cell_type": "code",
   "execution_count": 49,
   "id": "5d205621",
   "metadata": {},
   "outputs": [
    {
     "data": {
      "text/plain": [
       "151"
      ]
     },
     "execution_count": 49,
     "metadata": {},
     "output_type": "execute_result"
    }
   ],
   "source": [
    "rows_to_remove = []\n",
    "for index, row in df_test.iterrows():\n",
    "    if row[1] in texts:\n",
    "        rows_to_remove.append(index)\n",
    "        \n",
    "len(rows_to_remove)"
   ]
  },
  {
   "cell_type": "code",
   "execution_count": 50,
   "id": "bbce8499",
   "metadata": {},
   "outputs": [
    {
     "data": {
      "text/plain": [
       "(2864, 2)"
      ]
     },
     "execution_count": 50,
     "metadata": {},
     "output_type": "execute_result"
    }
   ],
   "source": [
    "df_test = df_test.drop(rows_to_remove)\n",
    "\n",
    "df_test.shape"
   ]
  },
  {
   "cell_type": "code",
   "execution_count": 51,
   "id": "9edd56c5",
   "metadata": {},
   "outputs": [],
   "source": [
    "df_test.to_csv('tiny_example_data/tiny_example_test_queries.tsv', sep='\\t', header=None, index=False)"
   ]
  },
  {
   "cell_type": "code",
   "execution_count": null,
   "id": "3595d425",
   "metadata": {},
   "outputs": [],
   "source": []
  },
  {
   "cell_type": "code",
   "execution_count": 24,
   "id": "e8f53240",
   "metadata": {},
   "outputs": [],
   "source": [
    "df = pd.concat([df_kb, df_test])"
   ]
  },
  {
   "cell_type": "code",
   "execution_count": 26,
   "id": "eb1d012f",
   "metadata": {},
   "outputs": [
    {
     "data": {
      "text/plain": [
       "(95033, 2)"
      ]
     },
     "execution_count": 26,
     "metadata": {},
     "output_type": "execute_result"
    }
   ],
   "source": [
    "df.shape"
   ]
  },
  {
   "cell_type": "code",
   "execution_count": 27,
   "id": "3a0ec246",
   "metadata": {},
   "outputs": [
    {
     "data": {
      "text/plain": [
       "(94732, 2)"
      ]
     },
     "execution_count": 27,
     "metadata": {},
     "output_type": "execute_result"
    }
   ],
   "source": [
    "df = df.drop_duplicates(keep=False)\n",
    "df.shape"
   ]
  },
  {
   "cell_type": "code",
   "execution_count": 25,
   "id": "11a0ee5e",
   "metadata": {},
   "outputs": [
    {
     "data": {
      "text/html": [
       "<div>\n",
       "<style scoped>\n",
       "    .dataframe tbody tr th:only-of-type {\n",
       "        vertical-align: middle;\n",
       "    }\n",
       "\n",
       "    .dataframe tbody tr th {\n",
       "        vertical-align: top;\n",
       "    }\n",
       "\n",
       "    .dataframe thead th {\n",
       "        text-align: right;\n",
       "    }\n",
       "</style>\n",
       "<table border=\"1\" class=\"dataframe\">\n",
       "  <thead>\n",
       "    <tr style=\"text-align: right;\">\n",
       "      <th></th>\n",
       "      <th>0</th>\n",
       "      <th>1</th>\n",
       "    </tr>\n",
       "  </thead>\n",
       "  <tbody>\n",
       "    <tr>\n",
       "      <th>198</th>\n",
       "      <td>122435008</td>\n",
       "      <td>medición de anticuerpos antivíricos</td>\n",
       "    </tr>\n",
       "  </tbody>\n",
       "</table>\n",
       "</div>"
      ],
      "text/plain": [
       "             0                                    1\n",
       "198  122435008  medición de anticuerpos antivíricos"
      ]
     },
     "execution_count": 25,
     "metadata": {},
     "output_type": "execute_result"
    }
   ],
   "source": [
    "df[df[1]=='medición de anticuerpos antivíricos']"
   ]
  },
  {
   "cell_type": "code",
   "execution_count": 9,
   "id": "d2505611",
   "metadata": {},
   "outputs": [],
   "source": [
    "#df.to_csv('tiny_example_data/tiny_example_test_kb.tsv', sep='\\t', index=False)"
   ]
  },
  {
   "cell_type": "code",
   "execution_count": null,
   "id": "8cfff73f",
   "metadata": {},
   "outputs": [],
   "source": []
  },
  {
   "cell_type": "code",
   "execution_count": 12,
   "id": "74372dff",
   "metadata": {},
   "outputs": [
    {
     "data": {
      "text/html": [
       "<div>\n",
       "<style scoped>\n",
       "    .dataframe tbody tr th:only-of-type {\n",
       "        vertical-align: middle;\n",
       "    }\n",
       "\n",
       "    .dataframe tbody tr th {\n",
       "        vertical-align: top;\n",
       "    }\n",
       "\n",
       "    .dataframe thead th {\n",
       "        text-align: right;\n",
       "    }\n",
       "</style>\n",
       "<table border=\"1\" class=\"dataframe\">\n",
       "  <thead>\n",
       "    <tr style=\"text-align: right;\">\n",
       "      <th></th>\n",
       "      <th>0</th>\n",
       "      <th>1</th>\n",
       "      <th>2</th>\n",
       "    </tr>\n",
       "  </thead>\n",
       "  <tbody>\n",
       "    <tr>\n",
       "      <th>0</th>\n",
       "      <td>238315007</td>\n",
       "      <td>ajuste de catéter de diálisis peritoneal ambul...</td>\n",
       "      <td>ajuste de catéter de diálisis peritoneal ambul...</td>\n",
       "    </tr>\n",
       "    <tr>\n",
       "      <th>1</th>\n",
       "      <td>35904009</td>\n",
       "      <td>detección de ácido desoxirribonucleico de papi...</td>\n",
       "      <td>detección del ADN del virus del papiloma humano</td>\n",
       "    </tr>\n",
       "    <tr>\n",
       "      <th>2</th>\n",
       "      <td>362994003</td>\n",
       "      <td>biopsia de estructura del sistema inmunológico</td>\n",
       "      <td>biopsia de estrucutra del sistema inmunológico</td>\n",
       "    </tr>\n",
       "    <tr>\n",
       "      <th>3</th>\n",
       "      <td>25187007</td>\n",
       "      <td>incisión y drenaje de absceso epiploico</td>\n",
       "      <td>incisión y drenaje de un absceso omental</td>\n",
       "    </tr>\n",
       "    <tr>\n",
       "      <th>4</th>\n",
       "      <td>388681002</td>\n",
       "      <td>medición de anticuerpo inmunoglobulina E espec...</td>\n",
       "      <td>medición de anticuerpo IgE específico f25</td>\n",
       "    </tr>\n",
       "  </tbody>\n",
       "</table>\n",
       "</div>"
      ],
      "text/plain": [
       "           0                                                  1   \n",
       "0  238315007  ajuste de catéter de diálisis peritoneal ambul...  \\\n",
       "1   35904009  detección de ácido desoxirribonucleico de papi...   \n",
       "2  362994003     biopsia de estructura del sistema inmunológico   \n",
       "3   25187007            incisión y drenaje de absceso epiploico   \n",
       "4  388681002  medición de anticuerpo inmunoglobulina E espec...   \n",
       "\n",
       "                                                   2  \n",
       "0  ajuste de catéter de diálisis peritoneal ambul...  \n",
       "1    detección del ADN del virus del papiloma humano  \n",
       "2     biopsia de estrucutra del sistema inmunológico  \n",
       "3           incisión y drenaje de un absceso omental  \n",
       "4          medición de anticuerpo IgE específico f25  "
      ]
     },
     "execution_count": 12,
     "metadata": {},
     "output_type": "execute_result"
    }
   ],
   "source": [
    "df_train = pd.read_csv('tiny_example_data/tiny_example_train_pairs.tsv', sep='\\t', header=None)\n",
    "df_train = df_train.sample(frac=1).reset_index(drop=True)\n",
    "df_train.head()"
   ]
  },
  {
   "cell_type": "code",
   "execution_count": 13,
   "id": "0170e4e8",
   "metadata": {},
   "outputs": [],
   "source": [
    "df_train.to_csv('tiny_example_data/tiny_example_train_pairs.tsv', sep='\\t', header=None, index=False)"
   ]
  },
  {
   "cell_type": "code",
   "execution_count": 10,
   "id": "cdc4b398",
   "metadata": {},
   "outputs": [
    {
     "data": {
      "text/html": [
       "<div>\n",
       "<style scoped>\n",
       "    .dataframe tbody tr th:only-of-type {\n",
       "        vertical-align: middle;\n",
       "    }\n",
       "\n",
       "    .dataframe tbody tr th {\n",
       "        vertical-align: top;\n",
       "    }\n",
       "\n",
       "    .dataframe thead th {\n",
       "        text-align: right;\n",
       "    }\n",
       "</style>\n",
       "<table border=\"1\" class=\"dataframe\">\n",
       "  <thead>\n",
       "    <tr style=\"text-align: right;\">\n",
       "      <th></th>\n",
       "      <th>0</th>\n",
       "      <th>1</th>\n",
       "      <th>2</th>\n",
       "    </tr>\n",
       "  </thead>\n",
       "  <tbody>\n",
       "    <tr>\n",
       "      <th>0</th>\n",
       "      <td>178098006</td>\n",
       "      <td>resección de quiste sinovial de pie</td>\n",
       "      <td>resección de ganglión de pie</td>\n",
       "    </tr>\n",
       "    <tr>\n",
       "      <th>1</th>\n",
       "      <td>433200009</td>\n",
       "      <td>angiografía fluoroscópica de arteria braquioce...</td>\n",
       "      <td>angiografía fluoroscópica de arteria braquioce...</td>\n",
       "    </tr>\n",
       "    <tr>\n",
       "      <th>2</th>\n",
       "      <td>438600004</td>\n",
       "      <td>medición del gasto cardiaco durante el ejercic...</td>\n",
       "      <td>medición del volumen minuto cardiaco durante e...</td>\n",
       "    </tr>\n",
       "    <tr>\n",
       "      <th>3</th>\n",
       "      <td>15901000087106</td>\n",
       "      <td>angiografía fluoroscópica de arteria subclavia...</td>\n",
       "      <td>angiografía con guía fluoroscópica de arteria ...</td>\n",
       "    </tr>\n",
       "    <tr>\n",
       "      <th>4</th>\n",
       "      <td>76144001</td>\n",
       "      <td>resección radical para el tratamiento de una i...</td>\n",
       "      <td>resección radical para el tratamiento de una i...</td>\n",
       "    </tr>\n",
       "  </tbody>\n",
       "</table>\n",
       "</div>"
      ],
      "text/plain": [
       "                0                                                  1   \n",
       "0       178098006                resección de quiste sinovial de pie  \\\n",
       "1       433200009  angiografía fluoroscópica de arteria braquioce...   \n",
       "2       438600004  medición del gasto cardiaco durante el ejercic...   \n",
       "3  15901000087106  angiografía fluoroscópica de arteria subclavia...   \n",
       "4        76144001  resección radical para el tratamiento de una i...   \n",
       "\n",
       "                                                   2  \n",
       "0                       resección de ganglión de pie  \n",
       "1  angiografía fluoroscópica de arteria braquioce...  \n",
       "2  medición del volumen minuto cardiaco durante e...  \n",
       "3  angiografía con guía fluoroscópica de arteria ...  \n",
       "4  resección radical para el tratamiento de una i...  "
      ]
     },
     "execution_count": 10,
     "metadata": {},
     "output_type": "execute_result"
    }
   ],
   "source": [
    "df_val = pd.read_csv('tiny_example_data/tiny_example_validation_pairs.tsv', sep='\\t', header=None)\n",
    "df_val.head()"
   ]
  },
  {
   "cell_type": "code",
   "execution_count": 11,
   "id": "73096004",
   "metadata": {},
   "outputs": [
    {
     "data": {
      "text/html": [
       "<div>\n",
       "<style scoped>\n",
       "    .dataframe tbody tr th:only-of-type {\n",
       "        vertical-align: middle;\n",
       "    }\n",
       "\n",
       "    .dataframe tbody tr th {\n",
       "        vertical-align: top;\n",
       "    }\n",
       "\n",
       "    .dataframe thead th {\n",
       "        text-align: right;\n",
       "    }\n",
       "</style>\n",
       "<table border=\"1\" class=\"dataframe\">\n",
       "  <thead>\n",
       "    <tr style=\"text-align: right;\">\n",
       "      <th></th>\n",
       "      <th>0</th>\n",
       "      <th>1</th>\n",
       "      <th>2</th>\n",
       "    </tr>\n",
       "  </thead>\n",
       "  <tbody>\n",
       "    <tr>\n",
       "      <th>0</th>\n",
       "      <td>274506003</td>\n",
       "      <td>anestesia local operatoria</td>\n",
       "      <td>anstesia local operatoria</td>\n",
       "    </tr>\n",
       "    <tr>\n",
       "      <th>1</th>\n",
       "      <td>32485007</td>\n",
       "      <td>admisión hospitalaria</td>\n",
       "      <td>internación</td>\n",
       "    </tr>\n",
       "    <tr>\n",
       "      <th>2</th>\n",
       "      <td>492661000119109</td>\n",
       "      <td>tomografía computarizada de articulación ester...</td>\n",
       "      <td>tomografía computada de articulación esternocl...</td>\n",
       "    </tr>\n",
       "    <tr>\n",
       "      <th>3</th>\n",
       "      <td>417897001</td>\n",
       "      <td>angiografía fluoroscópica de aorta y arterias ...</td>\n",
       "      <td>angiografía con guía fluoroscópica de aorta y ...</td>\n",
       "    </tr>\n",
       "    <tr>\n",
       "      <th>4</th>\n",
       "      <td>395141005</td>\n",
       "      <td>cribado mediante prueba de detección de autoan...</td>\n",
       "      <td>cribaje mediante prueba de detección de autoan...</td>\n",
       "    </tr>\n",
       "  </tbody>\n",
       "</table>\n",
       "</div>"
      ],
      "text/plain": [
       "                 0                                                  1   \n",
       "0        274506003                         anestesia local operatoria  \\\n",
       "1         32485007                              admisión hospitalaria   \n",
       "2  492661000119109  tomografía computarizada de articulación ester...   \n",
       "3        417897001  angiografía fluoroscópica de aorta y arterias ...   \n",
       "4        395141005  cribado mediante prueba de detección de autoan...   \n",
       "\n",
       "                                                   2  \n",
       "0                          anstesia local operatoria  \n",
       "1                                        internación  \n",
       "2  tomografía computada de articulación esternocl...  \n",
       "3  angiografía con guía fluoroscópica de aorta y ...  \n",
       "4  cribaje mediante prueba de detección de autoan...  "
      ]
     },
     "execution_count": 11,
     "metadata": {},
     "output_type": "execute_result"
    }
   ],
   "source": [
    "df_val = df_val.sample(frac=1).reset_index(drop=True)\n",
    "df_val.head()"
   ]
  },
  {
   "cell_type": "code",
   "execution_count": 14,
   "id": "6b7d12f2",
   "metadata": {},
   "outputs": [],
   "source": [
    "df_val.to_csv('tiny_example_data/tiny_example_validation_pairs.tsv', sep='\\t', header=None, index=False)"
   ]
  },
  {
   "cell_type": "code",
   "execution_count": null,
   "id": "c6375ee1",
   "metadata": {},
   "outputs": [],
   "source": []
  },
  {
   "cell_type": "code",
   "execution_count": null,
   "id": "0d4eb120",
   "metadata": {},
   "outputs": [],
   "source": []
  },
  {
   "cell_type": "code",
   "execution_count": 68,
   "id": "0926e2a4",
   "metadata": {},
   "outputs": [
    {
     "data": {
      "text/html": [
       "<div>\n",
       "<style scoped>\n",
       "    .dataframe tbody tr th:only-of-type {\n",
       "        vertical-align: middle;\n",
       "    }\n",
       "\n",
       "    .dataframe tbody tr th {\n",
       "        vertical-align: top;\n",
       "    }\n",
       "\n",
       "    .dataframe thead th {\n",
       "        text-align: right;\n",
       "    }\n",
       "</style>\n",
       "<table border=\"1\" class=\"dataframe\">\n",
       "  <thead>\n",
       "    <tr style=\"text-align: right;\">\n",
       "      <th></th>\n",
       "      <th>filename</th>\n",
       "      <th>label</th>\n",
       "      <th>start_span</th>\n",
       "      <th>end_span</th>\n",
       "      <th>text</th>\n",
       "    </tr>\n",
       "  </thead>\n",
       "  <tbody>\n",
       "    <tr>\n",
       "      <th>0</th>\n",
       "      <td>es-S0210-48062004000400008-1</td>\n",
       "      <td>PROCEDIMIENTO</td>\n",
       "      <td>61</td>\n",
       "      <td>142</td>\n",
       "      <td>intervención de pólipo adenomatoso en colon, h...</td>\n",
       "    </tr>\n",
       "    <tr>\n",
       "      <th>1</th>\n",
       "      <td>es-S0210-48062004000400008-1</td>\n",
       "      <td>PROCEDIMIENTO</td>\n",
       "      <td>244</td>\n",
       "      <td>253</td>\n",
       "      <td>analítica</td>\n",
       "    </tr>\n",
       "    <tr>\n",
       "      <th>2</th>\n",
       "      <td>es-S0210-48062004000400008-1</td>\n",
       "      <td>PROCEDIMIENTO</td>\n",
       "      <td>366</td>\n",
       "      <td>386</td>\n",
       "      <td>sistemático de orina</td>\n",
       "    </tr>\n",
       "    <tr>\n",
       "      <th>3</th>\n",
       "      <td>es-S0210-48062004000400008-1</td>\n",
       "      <td>PROCEDIMIENTO</td>\n",
       "      <td>392</td>\n",
       "      <td>412</td>\n",
       "      <td>radiografía de tórax</td>\n",
       "    </tr>\n",
       "    <tr>\n",
       "      <th>4</th>\n",
       "      <td>es-S0210-48062004000400008-1</td>\n",
       "      <td>PROCEDIMIENTO</td>\n",
       "      <td>433</td>\n",
       "      <td>452</td>\n",
       "      <td>ecografía abdominal</td>\n",
       "    </tr>\n",
       "  </tbody>\n",
       "</table>\n",
       "</div>"
      ],
      "text/plain": [
       "                       filename          label  start_span  end_span   \n",
       "0  es-S0210-48062004000400008-1  PROCEDIMIENTO          61       142  \\\n",
       "1  es-S0210-48062004000400008-1  PROCEDIMIENTO         244       253   \n",
       "2  es-S0210-48062004000400008-1  PROCEDIMIENTO         366       386   \n",
       "3  es-S0210-48062004000400008-1  PROCEDIMIENTO         392       412   \n",
       "4  es-S0210-48062004000400008-1  PROCEDIMIENTO         433       452   \n",
       "\n",
       "                                                text  \n",
       "0  intervención de pólipo adenomatoso en colon, h...  \n",
       "1                                          analítica  \n",
       "2                               sistemático de orina  \n",
       "3                               radiografía de tórax  \n",
       "4                                ecografía abdominal  "
      ]
     },
     "execution_count": 68,
     "metadata": {},
     "output_type": "execute_result"
    }
   ],
   "source": [
    "df_train_ner = pd.read_csv('medprocner_data/georgi_results_train_all_strict_v3.tsv', sep='\\t', header=0)\n",
    "df_train_ner.head()"
   ]
  },
  {
   "cell_type": "code",
   "execution_count": 69,
   "id": "41e73fb3",
   "metadata": {},
   "outputs": [],
   "source": [
    "df_query_train = df_train_ner['text']"
   ]
  },
  {
   "cell_type": "code",
   "execution_count": 70,
   "id": "4fbbddfb",
   "metadata": {},
   "outputs": [
    {
     "data": {
      "text/plain": [
       "0    intervención de pólipo adenomatoso en colon, h...\n",
       "1                                            analítica\n",
       "2                                 sistemático de orina\n",
       "3                                 radiografía de tórax\n",
       "4                                  ecografía abdominal\n",
       "Name: text, dtype: object"
      ]
     },
     "execution_count": 70,
     "metadata": {},
     "output_type": "execute_result"
    }
   ],
   "source": [
    "df_query_train.head()"
   ]
  },
  {
   "cell_type": "code",
   "execution_count": 71,
   "id": "dc12a192",
   "metadata": {},
   "outputs": [],
   "source": [
    "df_query_train.to_csv('medprocner_data/train_query.tsv', sep='\\t', index=False)"
   ]
  },
  {
   "cell_type": "code",
   "execution_count": null,
   "id": "016ac8eb",
   "metadata": {},
   "outputs": [],
   "source": []
  },
  {
   "cell_type": "code",
   "execution_count": null,
   "id": "b33b0526",
   "metadata": {},
   "outputs": [],
   "source": [
    "# create final kb\n",
    "#umls_procedures_full\n",
    "#medprocner_tsv_train_subtask2"
   ]
  },
  {
   "cell_type": "code",
   "execution_count": 79,
   "id": "6f68732b",
   "metadata": {},
   "outputs": [
    {
     "data": {
      "text/html": [
       "<div>\n",
       "<style scoped>\n",
       "    .dataframe tbody tr th:only-of-type {\n",
       "        vertical-align: middle;\n",
       "    }\n",
       "\n",
       "    .dataframe tbody tr th {\n",
       "        vertical-align: top;\n",
       "    }\n",
       "\n",
       "    .dataframe thead th {\n",
       "        text-align: right;\n",
       "    }\n",
       "</style>\n",
       "<table border=\"1\" class=\"dataframe\">\n",
       "  <thead>\n",
       "    <tr style=\"text-align: right;\">\n",
       "      <th></th>\n",
       "      <th>code</th>\n",
       "      <th>text</th>\n",
       "    </tr>\n",
       "  </thead>\n",
       "  <tbody>\n",
       "    <tr>\n",
       "      <th>0</th>\n",
       "      <td>386219007</td>\n",
       "      <td>útero en el posparto: disminución del sangrado</td>\n",
       "    </tr>\n",
       "    <tr>\n",
       "      <th>1</th>\n",
       "      <td>83362003</td>\n",
       "      <td>última visita del médico al paciente internado...</td>\n",
       "    </tr>\n",
       "    <tr>\n",
       "      <th>2</th>\n",
       "      <td>16555451000119104</td>\n",
       "      <td>ínyección terapéutica de rodilla izquierda con...</td>\n",
       "    </tr>\n",
       "    <tr>\n",
       "      <th>3</th>\n",
       "      <td>16549151000119108</td>\n",
       "      <td>ínyección terapéutica de rodilla derecha con g...</td>\n",
       "    </tr>\n",
       "    <tr>\n",
       "      <th>4</th>\n",
       "      <td>16549351000119106</td>\n",
       "      <td>ínyección terapéutica de muñeca izquierda con ...</td>\n",
       "    </tr>\n",
       "  </tbody>\n",
       "</table>\n",
       "</div>"
      ],
      "text/plain": [
       "                code                                               text\n",
       "0          386219007     útero en el posparto: disminución del sangrado\n",
       "1           83362003  última visita del médico al paciente internado...\n",
       "2  16555451000119104  ínyección terapéutica de rodilla izquierda con...\n",
       "3  16549151000119108  ínyección terapéutica de rodilla derecha con g...\n",
       "4  16549351000119106  ínyección terapéutica de muñeca izquierda con ..."
      ]
     },
     "execution_count": 79,
     "metadata": {},
     "output_type": "execute_result"
    }
   ],
   "source": [
    "df_umls_procedures_full = pd.read_csv('medprocner_data/umls_procedures_full.tsv', sep='\\t', header=None)\n",
    "df_umls_procedures_full.columns = ['code', 'text']\n",
    "df_umls_procedures_full.head()"
   ]
  },
  {
   "cell_type": "code",
   "execution_count": 73,
   "id": "08172601",
   "metadata": {},
   "outputs": [
    {
     "data": {
      "text/html": [
       "<div>\n",
       "<style scoped>\n",
       "    .dataframe tbody tr th:only-of-type {\n",
       "        vertical-align: middle;\n",
       "    }\n",
       "\n",
       "    .dataframe tbody tr th {\n",
       "        vertical-align: top;\n",
       "    }\n",
       "\n",
       "    .dataframe thead th {\n",
       "        text-align: right;\n",
       "    }\n",
       "</style>\n",
       "<table border=\"1\" class=\"dataframe\">\n",
       "  <thead>\n",
       "    <tr style=\"text-align: right;\">\n",
       "      <th></th>\n",
       "      <th>filename</th>\n",
       "      <th>label</th>\n",
       "      <th>start_span</th>\n",
       "      <th>end_span</th>\n",
       "      <th>text</th>\n",
       "      <th>code</th>\n",
       "      <th>sem_rel</th>\n",
       "      <th>is_abbrev</th>\n",
       "      <th>is_composite</th>\n",
       "      <th>need_context</th>\n",
       "    </tr>\n",
       "  </thead>\n",
       "  <tbody>\n",
       "    <tr>\n",
       "      <th>0</th>\n",
       "      <td>S0004-06142005000700014-1</td>\n",
       "      <td>PROCEDIMIENTO</td>\n",
       "      <td>1023</td>\n",
       "      <td>1044</td>\n",
       "      <td>Auscultación pulmonar</td>\n",
       "      <td>449264008</td>\n",
       "      <td>EXACT</td>\n",
       "      <td>False</td>\n",
       "      <td>False</td>\n",
       "      <td>False</td>\n",
       "    </tr>\n",
       "    <tr>\n",
       "      <th>1</th>\n",
       "      <td>S0004-06142005000700014-1</td>\n",
       "      <td>PROCEDIMIENTO</td>\n",
       "      <td>1143</td>\n",
       "      <td>1166</td>\n",
       "      <td>exploración neurológica</td>\n",
       "      <td>84728005</td>\n",
       "      <td>EXACT</td>\n",
       "      <td>False</td>\n",
       "      <td>False</td>\n",
       "      <td>False</td>\n",
       "    </tr>\n",
       "    <tr>\n",
       "      <th>2</th>\n",
       "      <td>S0004-06142005000700014-1</td>\n",
       "      <td>PROCEDIMIENTO</td>\n",
       "      <td>1307</td>\n",
       "      <td>1328</td>\n",
       "      <td>exploración urológica</td>\n",
       "      <td>302778005</td>\n",
       "      <td>EXACT</td>\n",
       "      <td>False</td>\n",
       "      <td>False</td>\n",
       "      <td>False</td>\n",
       "    </tr>\n",
       "    <tr>\n",
       "      <th>3</th>\n",
       "      <td>S0004-06142005000700014-1</td>\n",
       "      <td>PROCEDIMIENTO</td>\n",
       "      <td>1452</td>\n",
       "      <td>1461</td>\n",
       "      <td>palpación</td>\n",
       "      <td>113011001</td>\n",
       "      <td>EXACT</td>\n",
       "      <td>False</td>\n",
       "      <td>False</td>\n",
       "      <td>False</td>\n",
       "    </tr>\n",
       "    <tr>\n",
       "      <th>4</th>\n",
       "      <td>S0004-06142005000700014-1</td>\n",
       "      <td>PROCEDIMIENTO</td>\n",
       "      <td>1509</td>\n",
       "      <td>1525</td>\n",
       "      <td>transiluminación</td>\n",
       "      <td>103741002</td>\n",
       "      <td>EXACT</td>\n",
       "      <td>False</td>\n",
       "      <td>False</td>\n",
       "      <td>False</td>\n",
       "    </tr>\n",
       "  </tbody>\n",
       "</table>\n",
       "</div>"
      ],
      "text/plain": [
       "                    filename          label  start_span  end_span   \n",
       "0  S0004-06142005000700014-1  PROCEDIMIENTO        1023      1044  \\\n",
       "1  S0004-06142005000700014-1  PROCEDIMIENTO        1143      1166   \n",
       "2  S0004-06142005000700014-1  PROCEDIMIENTO        1307      1328   \n",
       "3  S0004-06142005000700014-1  PROCEDIMIENTO        1452      1461   \n",
       "4  S0004-06142005000700014-1  PROCEDIMIENTO        1509      1525   \n",
       "\n",
       "                      text       code sem_rel  is_abbrev  is_composite   \n",
       "0    Auscultación pulmonar  449264008   EXACT      False         False  \\\n",
       "1  exploración neurológica   84728005   EXACT      False         False   \n",
       "2    exploración urológica  302778005   EXACT      False         False   \n",
       "3                palpación  113011001   EXACT      False         False   \n",
       "4         transiluminación  103741002   EXACT      False         False   \n",
       "\n",
       "   need_context  \n",
       "0         False  \n",
       "1         False  \n",
       "2         False  \n",
       "3         False  \n",
       "4         False  "
      ]
     },
     "execution_count": 73,
     "metadata": {},
     "output_type": "execute_result"
    }
   ],
   "source": [
    "df_medprocner_tsv_train_subtask2 = pd.read_csv('medprocner_data/medprocner_tsv_train_subtask2.tsv', sep='\\t', header=0)\n",
    "df_medprocner_tsv_train_subtask2.head()"
   ]
  },
  {
   "cell_type": "code",
   "execution_count": 75,
   "id": "c9ce8370",
   "metadata": {},
   "outputs": [],
   "source": [
    "filter_no_code = df_medprocner_tsv_train_subtask2['code'].str.contains('NO_CODE')\n",
    "filter_multiple = df_medprocner_tsv_train_subtask2['code'].str.contains(\"\\+\")\n",
    "df_train_clean = df_medprocner_tsv_train_subtask2[~(filter_no_code | filter_multiple)]"
   ]
  },
  {
   "cell_type": "code",
   "execution_count": 76,
   "id": "0776f1b3",
   "metadata": {},
   "outputs": [
    {
     "data": {
      "text/html": [
       "<div>\n",
       "<style scoped>\n",
       "    .dataframe tbody tr th:only-of-type {\n",
       "        vertical-align: middle;\n",
       "    }\n",
       "\n",
       "    .dataframe tbody tr th {\n",
       "        vertical-align: top;\n",
       "    }\n",
       "\n",
       "    .dataframe thead th {\n",
       "        text-align: right;\n",
       "    }\n",
       "</style>\n",
       "<table border=\"1\" class=\"dataframe\">\n",
       "  <thead>\n",
       "    <tr style=\"text-align: right;\">\n",
       "      <th></th>\n",
       "      <th>code</th>\n",
       "      <th>text</th>\n",
       "    </tr>\n",
       "  </thead>\n",
       "  <tbody>\n",
       "    <tr>\n",
       "      <th>0</th>\n",
       "      <td>449264008</td>\n",
       "      <td>Auscultación pulmonar</td>\n",
       "    </tr>\n",
       "    <tr>\n",
       "      <th>1</th>\n",
       "      <td>84728005</td>\n",
       "      <td>exploración neurológica</td>\n",
       "    </tr>\n",
       "    <tr>\n",
       "      <th>2</th>\n",
       "      <td>302778005</td>\n",
       "      <td>exploración urológica</td>\n",
       "    </tr>\n",
       "    <tr>\n",
       "      <th>3</th>\n",
       "      <td>113011001</td>\n",
       "      <td>palpación</td>\n",
       "    </tr>\n",
       "    <tr>\n",
       "      <th>4</th>\n",
       "      <td>103741002</td>\n",
       "      <td>transiluminación</td>\n",
       "    </tr>\n",
       "    <tr>\n",
       "      <th>...</th>\n",
       "      <td>...</td>\n",
       "      <td>...</td>\n",
       "    </tr>\n",
       "    <tr>\n",
       "      <th>4852</th>\n",
       "      <td>439846009</td>\n",
       "      <td>FAVI radiocefálica izquierda</td>\n",
       "    </tr>\n",
       "    <tr>\n",
       "      <th>4853</th>\n",
       "      <td>164780005</td>\n",
       "      <td>se le coloca un catéter temporal yugular izqui...</td>\n",
       "    </tr>\n",
       "    <tr>\n",
       "      <th>4854</th>\n",
       "      <td>27929005</td>\n",
       "      <td>FAVI húmero cefálica izquierda</td>\n",
       "    </tr>\n",
       "    <tr>\n",
       "      <th>4855</th>\n",
       "      <td>45211000</td>\n",
       "      <td>colocación del catéter</td>\n",
       "    </tr>\n",
       "    <tr>\n",
       "      <th>4856</th>\n",
       "      <td>103715008</td>\n",
       "      <td>retirada del catéter</td>\n",
       "    </tr>\n",
       "  </tbody>\n",
       "</table>\n",
       "<p>4681 rows × 2 columns</p>\n",
       "</div>"
      ],
      "text/plain": [
       "           code                                               text\n",
       "0     449264008                              Auscultación pulmonar\n",
       "1      84728005                            exploración neurológica\n",
       "2     302778005                              exploración urológica\n",
       "3     113011001                                          palpación\n",
       "4     103741002                                   transiluminación\n",
       "...         ...                                                ...\n",
       "4852  439846009                       FAVI radiocefálica izquierda\n",
       "4853  164780005  se le coloca un catéter temporal yugular izqui...\n",
       "4854   27929005                     FAVI húmero cefálica izquierda\n",
       "4855   45211000                             colocación del catéter\n",
       "4856  103715008                               retirada del catéter\n",
       "\n",
       "[4681 rows x 2 columns]"
      ]
     },
     "execution_count": 76,
     "metadata": {},
     "output_type": "execute_result"
    }
   ],
   "source": [
    "df_train_clean[['code', 'text']]"
   ]
  },
  {
   "cell_type": "code",
   "execution_count": 80,
   "id": "63909b94",
   "metadata": {},
   "outputs": [],
   "source": [
    "df_full_kb = pd.concat([ df_umls_procedures_full, df_train_clean[['code', 'text']]])"
   ]
  },
  {
   "cell_type": "code",
   "execution_count": 81,
   "id": "c4396801",
   "metadata": {},
   "outputs": [
    {
     "data": {
      "text/html": [
       "<div>\n",
       "<style scoped>\n",
       "    .dataframe tbody tr th:only-of-type {\n",
       "        vertical-align: middle;\n",
       "    }\n",
       "\n",
       "    .dataframe tbody tr th {\n",
       "        vertical-align: top;\n",
       "    }\n",
       "\n",
       "    .dataframe thead th {\n",
       "        text-align: right;\n",
       "    }\n",
       "</style>\n",
       "<table border=\"1\" class=\"dataframe\">\n",
       "  <thead>\n",
       "    <tr style=\"text-align: right;\">\n",
       "      <th></th>\n",
       "      <th>code</th>\n",
       "      <th>text</th>\n",
       "    </tr>\n",
       "  </thead>\n",
       "  <tbody>\n",
       "    <tr>\n",
       "      <th>0</th>\n",
       "      <td>386219007</td>\n",
       "      <td>útero en el posparto: disminución del sangrado</td>\n",
       "    </tr>\n",
       "    <tr>\n",
       "      <th>1</th>\n",
       "      <td>83362003</td>\n",
       "      <td>última visita del médico al paciente internado...</td>\n",
       "    </tr>\n",
       "    <tr>\n",
       "      <th>2</th>\n",
       "      <td>16555451000119104</td>\n",
       "      <td>ínyección terapéutica de rodilla izquierda con...</td>\n",
       "    </tr>\n",
       "    <tr>\n",
       "      <th>3</th>\n",
       "      <td>16549151000119108</td>\n",
       "      <td>ínyección terapéutica de rodilla derecha con g...</td>\n",
       "    </tr>\n",
       "    <tr>\n",
       "      <th>4</th>\n",
       "      <td>16549351000119106</td>\n",
       "      <td>ínyección terapéutica de muñeca izquierda con ...</td>\n",
       "    </tr>\n",
       "  </tbody>\n",
       "</table>\n",
       "</div>"
      ],
      "text/plain": [
       "                code                                               text\n",
       "0          386219007     útero en el posparto: disminución del sangrado\n",
       "1           83362003  última visita del médico al paciente internado...\n",
       "2  16555451000119104  ínyección terapéutica de rodilla izquierda con...\n",
       "3  16549151000119108  ínyección terapéutica de rodilla derecha con g...\n",
       "4  16549351000119106  ínyección terapéutica de muñeca izquierda con ..."
      ]
     },
     "execution_count": 81,
     "metadata": {},
     "output_type": "execute_result"
    }
   ],
   "source": [
    "df_full_kb.head()"
   ]
  },
  {
   "cell_type": "code",
   "execution_count": 82,
   "id": "ff85c9c4",
   "metadata": {},
   "outputs": [
    {
     "data": {
      "text/plain": [
       "(140082, 2)"
      ]
     },
     "execution_count": 82,
     "metadata": {},
     "output_type": "execute_result"
    }
   ],
   "source": [
    "df_full_kb.shape"
   ]
  },
  {
   "cell_type": "code",
   "execution_count": 83,
   "id": "eedbfcc2",
   "metadata": {},
   "outputs": [],
   "source": [
    "df_full_kb = df_full_kb.drop_duplicates()"
   ]
  },
  {
   "cell_type": "code",
   "execution_count": 84,
   "id": "6e657c62",
   "metadata": {},
   "outputs": [
    {
     "data": {
      "text/plain": [
       "(129945, 2)"
      ]
     },
     "execution_count": 84,
     "metadata": {},
     "output_type": "execute_result"
    }
   ],
   "source": [
    "df_full_kb.shape"
   ]
  },
  {
   "cell_type": "code",
   "execution_count": 86,
   "id": "acf1ec8f",
   "metadata": {},
   "outputs": [],
   "source": [
    "df_full_kb.to_csv('medprocner_data/full_final_kb.tsv', sep='\\t', index=False, header=None)"
   ]
  },
  {
   "cell_type": "code",
   "execution_count": null,
   "id": "ead9f643",
   "metadata": {},
   "outputs": [],
   "source": []
  }
 ],
 "metadata": {
  "kernelspec": {
   "display_name": "Python 3 (ipykernel)",
   "language": "python",
   "name": "python3"
  },
  "language_info": {
   "codemirror_mode": {
    "name": "ipython",
    "version": 3
   },
   "file_extension": ".py",
   "mimetype": "text/x-python",
   "name": "python",
   "nbconvert_exporter": "python",
   "pygments_lexer": "ipython3",
   "version": "3.10.6"
  }
 },
 "nbformat": 4,
 "nbformat_minor": 5
}
